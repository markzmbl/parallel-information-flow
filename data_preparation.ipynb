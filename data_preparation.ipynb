{
 "cells": [
  {
   "cell_type": "code",
   "execution_count": 1,
   "metadata": {},
   "outputs": [],
   "source": [
    "import pandas as pd\n",
    "import numpy as np\n",
    "import networkx as nx\n",
    "import os\n",
    "from matplotlib import pyplot as plt"
   ]
  },
  {
   "cell_type": "code",
   "execution_count": 2,
   "metadata": {},
   "outputs": [],
   "source": [
    "network = dict()\n",
    "\n",
    "with open(f'dataverse_files/Sponsors.txt') as sponsor_file:\n",
    "    with open(f'dataverse_files/Cosponsors.txt') as cosponsor_file:\n",
    "        for sponsor_line, cosponsor_line in zip(sponsor_file, cosponsor_file):\n",
    "            sponsor_line = sponsor_line[:-1]\n",
    "            sponsor_id = int(sponsor_line) if sponsor_line != 'NA' else None\n",
    "            cosponsor_line = cosponsor_line[:-1]\n",
    "            cosponsor_ids = (int(c) for c in cosponsor_line.split(' ')) if cosponsor_line != 'NA' else ()\n",
    "\n",
    "            if sponsor_id and sponsor_id not in network:\n",
    "                network[sponsor_id] = set()\n",
    "\n",
    "            for cosponsor_id in cosponsor_ids:\n",
    "                if cosponsor_id and cosponsor_id not in network:\n",
    "                    network[cosponsor_id] = set()\n",
    "\n",
    "                if sponsor_id: network[sponsor_id].add(cosponsor_id)\n",
    "\n",
    "            "
   ]
  },
  {
   "cell_type": "code",
   "execution_count": 3,
   "metadata": {},
   "outputs": [],
   "source": [
    "G = nx.DiGraph()\n",
    "\n",
    "for node, neighbors in network.items():\n",
    "    G.add_node(node)\n",
    "    G.add_edges_from((node, neighbor) for neighbor in neighbors)\n"
   ]
  },
  {
   "cell_type": "code",
   "execution_count": 8,
   "metadata": {},
   "outputs": [],
   "source": [
    "\n",
    "nx.draw(G, with_labels=True)\n",
    "plt.show()"
   ]
  },
  {
   "cell_type": "code",
   "execution_count": 5,
   "metadata": {},
   "outputs": [
    {
     "data": {
      "text/plain": [
       "<BarContainer object of 2104 artists>"
      ]
     },
     "execution_count": 5,
     "metadata": {},
     "output_type": "execute_result"
    },
    {
     "data": {
      "image/png": "[encoded data removed]",
      "text/plain": [
       "<Figure size 640x480 with 1 Axes>"
      ]
     },
     "metadata": {},
     "output_type": "display_data"
    }
   ],
   "source": [
    "bins = nx.degree_histogram(G)\n",
    "plt.bar(list(range(len(bins))), bins)"
   ]
  },
  {
   "cell_type": "code",
   "execution_count": 6,
   "metadata": {},
   "outputs": [
    {
     "data": {
      "text/plain": [
       "False"
      ]
     },
     "execution_count": 6,
     "metadata": {},
     "output_type": "execute_result"
    }
   ],
   "source": [
    "adjacency_matrix = nx.adjacency_matrix(G).todense().astype(bool)\n",
    "(adjacency_matrix == adjacency_matrix.T).all()"
   ]
  },
  {
   "cell_type": "code",
   "execution_count": 7,
   "metadata": {},
   "outputs": [],
   "source": [
    "# Open the file in write binary mode\n",
    "with open('adjacency_matrix.bin', 'wb') as fout:\n",
    "    # Write the binary data to the file\n",
    "    fout.write(adjacency_matrix)"
   ]
  }
 ],
 "metadata": {
  "kernelspec": {
   "display_name": "venv",
   "language": "python",
   "name": "python3"
  },
  "language_info": {
   "codemirror_mode": {
    "name": "ipython",
    "version": 3
   },
   "file_extension": ".py",
   "mimetype": "text/x-python",
   "name": "python",
   "nbconvert_exporter": "python",
   "pygments_lexer": "ipython3",
   "version": "3.10.6"
  },
  "orig_nbformat": 4
 },
 "nbformat": 4,
 "nbformat_minor": 2
}
